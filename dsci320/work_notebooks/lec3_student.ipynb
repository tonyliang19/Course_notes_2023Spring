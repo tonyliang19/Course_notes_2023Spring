{
 "cells": [
  {
   "cell_type": "markdown",
   "id": "2cc53089-c9c2-4ac4-862a-ee520d523274",
   "metadata": {
    "colab_type": "text",
    "id": "IyWDKt1wJhjq",
    "pycharm": {
     "name": "#%% md\n"
    }
   },
   "source": [
    "# Encoding Channels\n",
    "\n",
    "With a basic framework of _data types_, _marks_, and _encoding channels_, we can concisely create a wide variety of visualizations. In the previous notebook you were exposed to attribute data types. A visualization represents data using a collection of _graphical marks_ (bars, lines, points, etc.). The attributes of a mark &mdash; such as its position, shape, size, or color &mdash; serve as _channels_ through which we can encode underlying data values. In other words, channels are a way to change the appearance of marks based on the data's attributes. In this notebook, we will use the `mark_point` graphical mark and different channels to create visual encodings.\n",
    "\n",
    "When discussing data items, the word __attribute__ is used to signify the data that describes the item. In the context of visualizations, we will use the words __field__ and __attribute__ interchangablely.\n",
    "At the heart of Altair is the use of *encodings* that bind data fields (with a given data type) to available encoding *channels* of a chosen *mark* type."
   ]
  },
  {
   "cell_type": "markdown",
   "id": "f1761002-bb3f-41a1-a775-f9b1d5b322a0",
   "metadata": {
    "colab_type": "text",
    "id": "dkfRE2_2KOZ9",
    "pycharm": {
     "name": "#%% md\n"
    }
   },
   "source": [
    "## Global Development Data"
   ]
  },
  {
   "cell_type": "code",
   "execution_count": null,
   "id": "846785c1",
   "metadata": {
    "collapsed": false,
    "jupyter": {
     "outputs_hidden": false
    },
    "pycharm": {
     "name": "#%%\n"
    }
   },
   "outputs": [],
   "source": [
    "import pandas as pd\n",
    "import altair as alt"
   ]
  },
  {
   "cell_type": "code",
   "execution_count": null,
   "id": "38ba3d9a-0eb3-4cfc-b78a-bcb706006d4d",
   "metadata": {},
   "outputs": [],
   "source": [
    "data = pd.read_csv(\"tax_expense.csv\")"
   ]
  },
  {
   "cell_type": "code",
   "execution_count": null,
   "id": "64efaf99-c6cb-49e8-ba29-cfa04d82cfa3",
   "metadata": {},
   "outputs": [],
   "source": [
    "data.head()\n"
   ]
  },
  {
   "cell_type": "code",
   "execution_count": null,
   "id": "688511b5-8596-4b3b-9735-51f6eaa4da0f",
   "metadata": {},
   "outputs": [],
   "source": [
    "data.shape"
   ]
  },
  {
   "cell_type": "markdown",
   "id": "2190a120",
   "metadata": {
    "pycharm": {
     "name": "#%% md\n"
    }
   },
   "source": [
    "Using pandas we can create a summary of each attribute. For the quantitative attributes, we will include the minimum and maximum values. For the others we will just get sense of the unique values that exist."
   ]
  },
  {
   "cell_type": "code",
   "execution_count": null,
   "id": "2949c215",
   "metadata": {
    "collapsed": false,
    "jupyter": {
     "outputs_hidden": false
    },
    "pycharm": {
     "name": "#%%\n"
    }
   },
   "outputs": [],
   "source": [
    "data.agg(\n",
    "    {\n",
    "        \"corp\":['unique'],\n",
    "        \"art\":['min', 'max'],\n",
    "        \"tax_rate\": ['min', 'max'],\n",
    "        \"tax_expense\": ['min', 'max'],\n",
    "        \"earning\": ['min', 'max'],\n",
    "\n",
    "    }\n",
    ")"
   ]
  },
  {
   "cell_type": "markdown",
   "id": "cbdaea8a",
   "metadata": {
    "pycharm": {
     "name": "#%% md\n"
    }
   },
   "source": [
    "## X\n",
    "\n",
    "The `x` encoding channel sets a mark's horizontal position (x-coordinate). In addition, default choices of axis and title are made automatically. In the chart below, the choice of a quantitative data type results in a continuous linear axis scale:"
   ]
  },
  {
   "cell_type": "code",
   "execution_count": null,
   "id": "6d3348ad-3999-4847-a8d1-1cb121e3b473",
   "metadata": {
    "colab": {
     "base_uri": "https://localhost:8080/",
     "height": 87
    },
    "colab_type": "code",
    "id": "nswya-ToLaRP",
    "outputId": "2a958755-7f70-4a86-ab6f-2cfb24ad7231",
    "pycharm": {
     "name": "#%%\n"
    }
   },
   "outputs": [],
   "source": [
    "#write code"
   ]
  },
  {
   "cell_type": "markdown",
   "id": "4e253bef-5d5d-4c09-a5cd-b7e2c4d72091",
   "metadata": {
    "colab_type": "text",
    "id": "WwQuuyKUOElr",
    "pycharm": {
     "name": "#%% md\n"
    }
   },
   "source": [
    "## Y\n",
    "\n",
    "The `y` encoding channel sets a mark's vertical position (y-coordinate). Here we've encoded the `art` field to the chart on the `y` channel."
   ]
  },
  {
   "cell_type": "code",
   "execution_count": null,
   "id": "142efa1e-d06d-44dd-bc5a-8319c6025615",
   "metadata": {
    "colab": {
     "base_uri": "https://localhost:8080/",
     "height": 192
    },
    "colab_type": "code",
    "id": "eP38vNrdNrHF",
    "outputId": "9ff5b4a8-143c-4595-845f-026ed2e747a8",
    "pycharm": {
     "name": "#%%\n"
    }
   },
   "outputs": [],
   "source": [
    "#write code"
   ]
  },
  {
   "cell_type": "markdown",
   "id": "ac87b797-78a0-4e47-9c18-81beeccc3ce2",
   "metadata": {
    "colab_type": "text",
    "id": "2BQetZgvc0f_",
    "pycharm": {
     "name": "#%% md\n"
    }
   },
   "source": [
    "What happens to the chart above if you swap the specify the art as nomimal data type?"
   ]
  },
  {
   "cell_type": "code",
   "execution_count": null,
   "id": "e089ce97-ef48-408d-8fa1-3973c2db635a",
   "metadata": {
    "colab": {
     "base_uri": "https://localhost:8080/",
     "height": 372
    },
    "colab_type": "code",
    "id": "n8PJhH6jN68w",
    "outputId": "ac41eaeb-4872-48db-ddf1-ab6b5c84f387",
    "pycharm": {
     "name": "#%%\n"
    }
   },
   "outputs": [],
   "source": [
    "#write code"
   ]
  },
  {
   "cell_type": "markdown",
   "id": "7ab8fead-e8f6-4bf1-975e-e4aba77d2c6c",
   "metadata": {
    "colab_type": "text",
    "id": "hKCsQ0iIPMTV",
    "pycharm": {
     "name": "#%% md\n"
    }
   },
   "source": [
    "## Size"
   ]
  },
  {
   "cell_type": "markdown",
   "id": "9f693911-5149-4152-b864-a3e974c3e92e",
   "metadata": {
    "colab_type": "text",
    "id": "G7YtT-HNdYT9",
    "pycharm": {
     "name": "#%% md\n"
    }
   },
   "source": [
    "The `size` encoding channel sets a mark's size or extent. The meaning of the channel can vary based on the mark type. For `point` marks, the `size` channel maps to the pixel area of the plotting symbol, such that the diameter of the point matches the square root of the size value.\n",
    "\n",
    "Let's augment our scatter plot by encoding population (`pop`) on the `size` channel. As a result, the chart now also includes a legend for interpreting the size values.\n",
    "By using the `size` channel to encode an additional quantitiative attribute, we have moved away from a standard **scatter plot**, to the lesser known, **bubble plot**."
   ]
  },
  {
   "cell_type": "code",
   "execution_count": null,
   "id": "2c3eb3cb-6dc6-4ccd-bcc2-883301ebebf1",
   "metadata": {
    "colab": {
     "base_uri": "https://localhost:8080/",
     "height": 372
    },
    "colab_type": "code",
    "id": "sGENuXRfOIPz",
    "outputId": "4f76557c-4e35-41fc-9e06-513be34969ae",
    "pycharm": {
     "name": "#%%\n"
    }
   },
   "outputs": [],
   "source": [
    "#write code"
   ]
  },
  {
   "cell_type": "markdown",
   "id": "dfb84c80-a884-463b-9c87-d589332c5500",
   "metadata": {
    "colab_type": "text",
    "id": "g5Cu5F2Ad9xG",
    "pycharm": {
     "name": "#%% md\n"
    }
   },
   "source": [
    "In some cases we might be unsatisfied with the default size range. To provide a customized span of sizes, set the `range` parameter of the `scale` attribute to an array indicating the smallest and largest sizes. Here we update the size encoding to range from 0 pixels (for zero values) to 1,000 pixels (for the maximum value in the scale domain):"
   ]
  },
  {
   "cell_type": "code",
   "execution_count": null,
   "id": "486ec601-45b2-4a50-8a81-8dafb5690473",
   "metadata": {
    "colab": {
     "base_uri": "https://localhost:8080/",
     "height": 372
    },
    "colab_type": "code",
    "id": "cALgZSQfQzi0",
    "outputId": "0d88f561-9737-43fa-a84a-7ad6dcdfbf0c",
    "pycharm": {
     "name": "#%%\n"
    }
   },
   "outputs": [],
   "source": [
    "#write code"
   ]
  },
  {
   "cell_type": "markdown",
   "id": "cfc9f238-4be7-4bee-8cf7-caa68e42e3d3",
   "metadata": {
    "colab_type": "text",
    "id": "yF__0zZ0PJyT",
    "pycharm": {
     "name": "#%% md\n"
    }
   },
   "source": [
    "## Color"
   ]
  },
  {
   "cell_type": "markdown",
   "id": "c57d8a1a-5b23-481f-92c9-d7cf0523690c",
   "metadata": {
    "colab_type": "text",
    "id": "u5QXPLxJeohH",
    "pycharm": {
     "name": "#%% md\n"
    }
   },
   "source": [
    "The `color` encoding channel sets a mark's color. The style of color encoding is highly dependent on the data type: nominal data will default to a multi-hued qualitative color scheme, whereas ordinal and quantitative data will use perceptually ordered color gradients.\n",
    "\n",
    "Here, we encode the `tax_rate` field using the `color` channel and a nominal (`N`) data type, resulting in a distinct hue for each cluster value. "
   ]
  },
  {
   "cell_type": "code",
   "execution_count": null,
   "id": "ea878070-a74d-42ea-ba03-20c9c84fcca2",
   "metadata": {
    "colab": {
     "base_uri": "https://localhost:8080/",
     "height": 372
    },
    "colab_type": "code",
    "id": "bI73XTt5OTmA",
    "outputId": "f12aeb57-07c5-422e-8cb1-62253b545af8",
    "pycharm": {
     "name": "#%%\n"
    }
   },
   "outputs": [],
   "source": [
    "#write code\n"
   ]
  },
  {
   "cell_type": "markdown",
   "id": "4b29128f-8e9f-46d5-a843-f4482d1362ce",
   "metadata": {},
   "source": [
    "But the tax_rate is a quantitative value, let's switch the data attribute type from 'Nominal' to 'Quantitative'"
   ]
  },
  {
   "cell_type": "code",
   "execution_count": null,
   "id": "a8414ca7-b0c2-4f95-ad5b-f724fa50006d",
   "metadata": {},
   "outputs": [],
   "source": [
    "#write code"
   ]
  },
  {
   "cell_type": "markdown",
   "id": "66e1d89d-a685-4bfe-95c1-8a66cc7329ae",
   "metadata": {},
   "source": [
    "But our goal is to use the purples and oranges like NYTs, there are a range of color schemes (we will talk about this more in lecture)"
   ]
  },
  {
   "cell_type": "code",
   "execution_count": null,
   "id": "a927ad18-c6d6-45a6-bfc8-96ece5abec5d",
   "metadata": {},
   "outputs": [],
   "source": [
    "#write code"
   ]
  },
  {
   "cell_type": "code",
   "execution_count": null,
   "id": "4599cbf0-af60-48a9-b26e-a635aeffec37",
   "metadata": {},
   "outputs": [],
   "source": [
    "alt.Chart(data).mark_circle().encode(\n",
    "    x = alt.X('tax_rate',\n",
    "              axis=alt.Axis(orient='top', domain=False, ticks=False)),\n",
    "    size = alt.Size('earning', \n",
    "                    scale=alt.Scale(range=[0,1000]),\n",
    "                    legend=alt.Legend(orient='bottom', direction='horizontal')),\n",
    "    color= alt.Color('tax_rate:Q', \n",
    "                     scale=alt.Scale(scheme = 'purpleorange'),\n",
    "                    legend=alt.Legend(orient='bottom', direction='horizontal')), \n",
    "     tooltip = [\n",
    "        alt.Tooltip('corp:N'),\n",
    "        alt.Tooltip('earning:Q'),\n",
    "        alt.Tooltip('tax_rate:Q')\n",
    "    ]   \n",
    "    \n",
    ").properties(\n",
    "    width = 300, \n",
    "    height = 80\n",
    ").configure_axis(\n",
    "    grid = False\n",
    ").configure_view(\n",
    "    strokeWidth=0\n",
    ")"
   ]
  }
 ],
 "metadata": {
  "kernelspec": {
   "display_name": "Python 3 (ipykernel)",
   "language": "python",
   "name": "python3"
  },
  "language_info": {
   "codemirror_mode": {
    "name": "ipython",
    "version": 3
   },
   "file_extension": ".py",
   "mimetype": "text/x-python",
   "name": "python",
   "nbconvert_exporter": "python",
   "pygments_lexer": "ipython3",
   "version": "3.10.8"
  }
 },
 "nbformat": 4,
 "nbformat_minor": 5
}
