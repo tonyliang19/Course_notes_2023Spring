{
 "cells": [
  {
   "cell_type": "markdown",
   "metadata": {
    "papermill": {
     "duration": 0.040274,
     "end_time": "2021-03-20T04:50:46.537380",
     "exception": false,
     "start_time": "2021-03-20T04:50:46.497106",
     "status": "completed"
    },
    "tags": []
   },
   "source": [
    "# EDA on Netflix Data"
   ]
  },
  {
   "cell_type": "code",
   "execution_count": 1,
   "metadata": {
    "papermill": {
     "duration": 0.901274,
     "end_time": "2021-03-20T04:50:47.545875",
     "exception": false,
     "start_time": "2021-03-20T04:50:46.644601",
     "status": "completed"
    },
    "tags": []
   },
   "outputs": [
    {
     "data": {
      "text/plain": [
       "DataTransformerRegistry.enable('data_server')"
      ]
     },
     "execution_count": 1,
     "metadata": {},
     "output_type": "execute_result"
    }
   ],
   "source": [
    "# libraries \n",
    "import pandas as pd\n",
    "import numpy as np\n",
    "import altair as alt\n",
    "\n",
    "# Handle large data sets without embedding them in the notebook\n",
    "alt.data_transformers.enable('data_server')"
   ]
  },
  {
   "cell_type": "markdown",
   "metadata": {},
   "source": [
    "## Tasks\n",
    "1. Basic Data Wrangling Tasks (including understanding the dataset characteristics)\n",
    "2. Summary views (both visual and numerical)\n",
    "3. Generate questions about the data\n",
    "4. Search for answers by visualizing the data"
   ]
  },
  {
   "cell_type": "markdown",
   "metadata": {
    "papermill": {
     "duration": 0.040744,
     "end_time": "2021-03-20T04:50:47.630072",
     "exception": false,
     "start_time": "2021-03-20T04:50:47.589328",
     "status": "completed"
    },
    "tags": []
   },
   "source": [
    "## 1. Load the Dataset\n",
    "Understanding the dataset characteristics\n",
    " - What is the size of the dataset\n",
    " - What are the column names\n",
    " - Is the data in an appropriate form for us to encode it with altair, adjust as necessary"
   ]
  },
  {
   "cell_type": "code",
   "execution_count": 2,
   "metadata": {
    "papermill": {
     "duration": 0.233629,
     "end_time": "2021-03-20T04:50:47.902848",
     "exception": false,
     "start_time": "2021-03-20T04:50:47.669219",
     "status": "completed"
    },
    "tags": []
   },
   "outputs": [
    {
     "data": {
      "text/html": [
       "<div>\n",
       "<style scoped>\n",
       "    .dataframe tbody tr th:only-of-type {\n",
       "        vertical-align: middle;\n",
       "    }\n",
       "\n",
       "    .dataframe tbody tr th {\n",
       "        vertical-align: top;\n",
       "    }\n",
       "\n",
       "    .dataframe thead th {\n",
       "        text-align: right;\n",
       "    }\n",
       "</style>\n",
       "<table border=\"1\" class=\"dataframe\">\n",
       "  <thead>\n",
       "    <tr style=\"text-align: right;\">\n",
       "      <th></th>\n",
       "      <th>show_id</th>\n",
       "      <th>title</th>\n",
       "      <th>director</th>\n",
       "      <th>cast</th>\n",
       "      <th>country</th>\n",
       "      <th>release_year</th>\n",
       "      <th>rating</th>\n",
       "      <th>duration</th>\n",
       "      <th>listed_in</th>\n",
       "      <th>description</th>\n",
       "      <th>month_added</th>\n",
       "      <th>day_added</th>\n",
       "      <th>year_added</th>\n",
       "    </tr>\n",
       "  </thead>\n",
       "  <tbody>\n",
       "    <tr>\n",
       "      <th>0</th>\n",
       "      <td>s7104</td>\n",
       "      <td>Tinker Bell and the Legend of the NeverBeast</td>\n",
       "      <td>Steve Loter</td>\n",
       "      <td>Ginnifer Goodwin, Mae Whitman, Rosario Dawson,...</td>\n",
       "      <td>United States</td>\n",
       "      <td>2014</td>\n",
       "      <td>G</td>\n",
       "      <td>78</td>\n",
       "      <td>Children &amp; Family Movies</td>\n",
       "      <td>When suspicious scout fairies scheme to captur...</td>\n",
       "      <td>January</td>\n",
       "      <td>1</td>\n",
       "      <td>2008</td>\n",
       "    </tr>\n",
       "    <tr>\n",
       "      <th>1</th>\n",
       "      <td>s1764</td>\n",
       "      <td>Dilan 1991</td>\n",
       "      <td>Fajar Bustomi, Pidi Baiq</td>\n",
       "      <td>Iqbaal Ramadhan, Vanesha Prescilla, Ira Wibowo...</td>\n",
       "      <td>Indonesia</td>\n",
       "      <td>2019</td>\n",
       "      <td>TV-14</td>\n",
       "      <td>118</td>\n",
       "      <td>Dramas, International Movies, Romantic Movies</td>\n",
       "      <td>Dilan's involvement in the motorbike gang impe...</td>\n",
       "      <td>February</td>\n",
       "      <td>4</td>\n",
       "      <td>2008</td>\n",
       "    </tr>\n",
       "    <tr>\n",
       "      <th>2</th>\n",
       "      <td>s3244</td>\n",
       "      <td>Jumping the Broom</td>\n",
       "      <td>Salim Akil</td>\n",
       "      <td>Angela Bassett, Paula Patton, Laz Alonso, Lore...</td>\n",
       "      <td>United States</td>\n",
       "      <td>2011</td>\n",
       "      <td>PG-13</td>\n",
       "      <td>113</td>\n",
       "      <td>Comedies, Romantic Movies</td>\n",
       "      <td>After a whirlwind romance, a couple rushes to ...</td>\n",
       "      <td>May</td>\n",
       "      <td>5</td>\n",
       "      <td>2009</td>\n",
       "    </tr>\n",
       "    <tr>\n",
       "      <th>3</th>\n",
       "      <td>s3834</td>\n",
       "      <td>Mac &amp; Devin Go to High School</td>\n",
       "      <td>Dylan C. Brown</td>\n",
       "      <td>Snoop Dogg, Wiz Khalifa, Mike Epps, Teairra Ma...</td>\n",
       "      <td>United States</td>\n",
       "      <td>2012</td>\n",
       "      <td>R</td>\n",
       "      <td>76</td>\n",
       "      <td>Comedies</td>\n",
       "      <td>Devin Overstreet may be the class valedictoria...</td>\n",
       "      <td>November</td>\n",
       "      <td>1</td>\n",
       "      <td>2010</td>\n",
       "    </tr>\n",
       "    <tr>\n",
       "      <th>4</th>\n",
       "      <td>s6836</td>\n",
       "      <td>The Rover</td>\n",
       "      <td>David Michôd</td>\n",
       "      <td>Guy Pearce, Robert Pattinson, Scoot McNairy, D...</td>\n",
       "      <td>Australia, United States</td>\n",
       "      <td>2014</td>\n",
       "      <td>R</td>\n",
       "      <td>103</td>\n",
       "      <td>International Movies, Thrillers</td>\n",
       "      <td>Set in a chaotic future, this Outback saga fol...</td>\n",
       "      <td>October</td>\n",
       "      <td>1</td>\n",
       "      <td>2011</td>\n",
       "    </tr>\n",
       "  </tbody>\n",
       "</table>\n",
       "</div>"
      ],
      "text/plain": [
       "  show_id                                         title  \\\n",
       "0   s7104  Tinker Bell and the Legend of the NeverBeast   \n",
       "1   s1764                                    Dilan 1991   \n",
       "2   s3244                             Jumping the Broom   \n",
       "3   s3834                 Mac & Devin Go to High School   \n",
       "4   s6836                                     The Rover   \n",
       "\n",
       "                   director  \\\n",
       "0               Steve Loter   \n",
       "1  Fajar Bustomi, Pidi Baiq   \n",
       "2                Salim Akil   \n",
       "3            Dylan C. Brown   \n",
       "4              David Michôd   \n",
       "\n",
       "                                                cast  \\\n",
       "0  Ginnifer Goodwin, Mae Whitman, Rosario Dawson,...   \n",
       "1  Iqbaal Ramadhan, Vanesha Prescilla, Ira Wibowo...   \n",
       "2  Angela Bassett, Paula Patton, Laz Alonso, Lore...   \n",
       "3  Snoop Dogg, Wiz Khalifa, Mike Epps, Teairra Ma...   \n",
       "4  Guy Pearce, Robert Pattinson, Scoot McNairy, D...   \n",
       "\n",
       "                    country  release_year rating  duration  \\\n",
       "0             United States          2014      G        78   \n",
       "1                 Indonesia          2019  TV-14       118   \n",
       "2             United States          2011  PG-13       113   \n",
       "3             United States          2012      R        76   \n",
       "4  Australia, United States          2014      R       103   \n",
       "\n",
       "                                       listed_in  \\\n",
       "0                       Children & Family Movies   \n",
       "1  Dramas, International Movies, Romantic Movies   \n",
       "2                      Comedies, Romantic Movies   \n",
       "3                                       Comedies   \n",
       "4                International Movies, Thrillers   \n",
       "\n",
       "                                         description month_added  day_added  \\\n",
       "0  When suspicious scout fairies scheme to captur...     January          1   \n",
       "1  Dilan's involvement in the motorbike gang impe...    February          4   \n",
       "2  After a whirlwind romance, a couple rushes to ...         May          5   \n",
       "3  Devin Overstreet may be the class valedictoria...    November          1   \n",
       "4  Set in a chaotic future, this Outback saga fol...     October          1   \n",
       "\n",
       "   year_added  \n",
       "0        2008  \n",
       "1        2008  \n",
       "2        2009  \n",
       "3        2010  \n",
       "4        2011  "
      ]
     },
     "execution_count": 2,
     "metadata": {},
     "output_type": "execute_result"
    }
   ],
   "source": [
    "url = 'https://raw.githubusercontent.com/kemiolamudzengi/dsci-320-datasets/main/netflix_data_edited.csv'\n",
    "data = pd.read_csv(url, parse_dates= ['release_year', 'year_added'])\n",
    "data['release_year'] = pd.DatetimeIndex(data['release_year']).year\n",
    "data['year_added'] = pd.DatetimeIndex(data['year_added']).year\n",
    "data.head()"
   ]
  },
  {
   "cell_type": "code",
   "execution_count": null,
   "metadata": {},
   "outputs": [],
   "source": []
  },
  {
   "cell_type": "markdown",
   "metadata": {},
   "source": [
    "### Data Wrangling\n",
    "Let us split the listed_in column so that we have distinct categories, give the column the names genre_1, genre_2, genre_3"
   ]
  },
  {
   "cell_type": "markdown",
   "metadata": {},
   "source": [
    "## 2. Summary views (both visual and numerical)\n",
    " - Univariate Numerical Summaries\n",
    " - Univariate Visual Idioms\n",
    " - Multivariate Numerical Summaries\n",
    " - Multivariate Visual Idioms"
   ]
  },
  {
   "cell_type": "markdown",
   "metadata": {},
   "source": [
    "### Univariate Numerical Summaries"
   ]
  },
  {
   "cell_type": "markdown",
   "metadata": {},
   "source": [
    "#### Quantitative\n",
    "- range (i.e., min, max)\n",
    "- central tendency (i.e, mean, median)\n",
    "- spread (i.e., standard deviation)"
   ]
  },
  {
   "cell_type": "markdown",
   "metadata": {},
   "source": [
    "#### Categorical\n",
    " - Frequency of each value (i.e., frequency table)\n",
    "First determine which attributes you are interested in exploring\n",
    "data.columns\n",
    "'rating', 'added_month', 'genre_1', 'genre_2', 'genre_3'\n",
    "'director', 'cast', 'country', is more diverse and less interesting at this point\n"
   ]
  },
  {
   "cell_type": "code",
   "execution_count": 3,
   "metadata": {},
   "outputs": [],
   "source": [
    "cat_attr = ['rating', 'month_added', 'genre_1', 'genre_2', 'genre_3'] #'director', 'cast', 'country',  less interesting and more diverse. "
   ]
  },
  {
   "cell_type": "markdown",
   "metadata": {},
   "source": [
    "Iterate over the list and print out the frequency for each attribute"
   ]
  },
  {
   "cell_type": "markdown",
   "metadata": {},
   "source": [
    "#### Data Munging"
   ]
  },
  {
   "cell_type": "markdown",
   "metadata": {},
   "source": [
    "Hmmmm do we want to combine TV-G with G  and also combine TV-PG with PG, also let's drop the ones that are missing\n",
    "So what is happening is that as we understand the data, we are refinning the dataset and performing additional transformations\n",
    "https://movielabs.com/md/ratings/v2.3/html/US_TVPG_Ratings.html "
   ]
  },
  {
   "cell_type": "markdown",
   "metadata": {},
   "source": [
    "### Categorical Univariate Visual Summaries\n",
    " - use bar charts for categorical attributes\n",
    " e.g genre_1, month_added, rating, country, cast etc. "
   ]
  },
  {
   "cell_type": "markdown",
   "metadata": {},
   "source": [
    "### Quantitative Univariate Visual Summaries\n",
    "histograms and density plots  - duration, year added"
   ]
  },
  {
   "cell_type": "markdown",
   "metadata": {},
   "source": [
    "Adjust the number of bars so it is similar to the density plot above"
   ]
  },
  {
   "cell_type": "markdown",
   "metadata": {},
   "source": [
    "### Multivariate Numerical Summaries"
   ]
  },
  {
   "cell_type": "markdown",
   "metadata": {},
   "source": [
    "#### Categorical\n",
    "- rating and genre_1\n",
    "- rating and month_added\n",
    "- rating and genre_2\n",
    "HINT: use crosstab"
   ]
  },
  {
   "cell_type": "markdown",
   "metadata": {},
   "source": [
    "#### Quantitative\n",
    "- Correlation Matrix for quantitative attributes"
   ]
  },
  {
   "cell_type": "markdown",
   "metadata": {},
   "source": [
    "What if we wanted to explore if there a strong correlation between the quantitative attributes for a specific genre"
   ]
  },
  {
   "cell_type": "code",
   "execution_count": null,
   "metadata": {},
   "outputs": [],
   "source": []
  },
  {
   "cell_type": "markdown",
   "metadata": {},
   "source": [
    "### Multivariate Visual Summaries"
   ]
  },
  {
   "cell_type": "markdown",
   "metadata": {},
   "source": [
    "#### Stacked Bar Charts  - month and genre_1"
   ]
  },
  {
   "cell_type": "markdown",
   "metadata": {},
   "source": [
    "#### Overlapping Density Plots - duration and rating (keep 3 ratings you care about"
   ]
  },
  {
   "cell_type": "markdown",
   "metadata": {},
   "source": [
    "#### Bivariate Outlier Exploration\n",
    "- use a scatter-plot to depict the values for a one categorical and one quantititve attribute\n"
   ]
  },
  {
   "cell_type": "markdown",
   "metadata": {},
   "source": [
    "## Additional Analysis"
   ]
  },
  {
   "cell_type": "markdown",
   "metadata": {},
   "source": [
    "Now that we have an overview of the data, we can start exploring additional questions of interest.\n",
    "First summarize the questions that you have been able to answer with the EDA before formulating additional questions of interest\n",
    "The questions should be diverse (use Stasko classification of low-level tasks (e.g., Retrive Value, Filter, Find Extremum)\n",
    "- Retrieve Value - Find the longest movie, what is its name, genre, and length?\n",
    "- Filter - Present the 20 longest movies realized after 2005 that have a pG-13 rating \n",
    "- Compute Derived Value - What percentage of movies added to the Netflix catalogue in 2018 were Documentaries? \n",
    "- Compute Derived Value - What is the average length of the movies in a given primary genre\n",
    "- Find Extremum - Which genre has the longest movie\n",
    "- Sort - Rank movies by their length\n",
    "- Determine Range - What is the duration range for movies released in 2000?\n",
    "- Characterize Distribution - What is the distribution by Genre for movies in a given rating group?\n",
    "- Find Anomalies - What outliers exist for a given genre and rating in terms of movie length\n",
    "- Correlate - Is there a relationship between film duration and year of release for a given genre\n",
    "- Does Netflix typically add movies on a specifc day of the month?"
   ]
  },
  {
   "cell_type": "markdown",
   "metadata": {},
   "source": [
    "### Retrieve Value - Find the longest movie, what is its name, genre, and length?"
   ]
  },
  {
   "cell_type": "markdown",
   "metadata": {},
   "source": [
    "### Filter - What are the 20 longest movies realized after 2005 that have a PG-13 rating"
   ]
  },
  {
   "cell_type": "markdown",
   "metadata": {},
   "source": [
    "### Compute Derived Value"
   ]
  },
  {
   "cell_type": "markdown",
   "metadata": {},
   "source": [
    "### What percentage of movies added to the Netflix catalogue in 2018 were Documentaries? "
   ]
  },
  {
   "cell_type": "markdown",
   "metadata": {},
   "source": [
    "#### Sorted Bar Chart - Attempt 1"
   ]
  },
  {
   "cell_type": "markdown",
   "metadata": {},
   "source": [
    "#### Compute Derived Value and then use Pie Chart or Stacked Single Bar - Attempt 2"
   ]
  },
  {
   "cell_type": "markdown",
   "metadata": {},
   "source": [
    "#### - Layered View to Create Proportional Single Bar Chart - Attempt 3"
   ]
  },
  {
   "cell_type": "markdown",
   "metadata": {},
   "source": [
    "### Compute Derived Value - What is the average length of the movies for each rating"
   ]
  },
  {
   "cell_type": "markdown",
   "metadata": {},
   "source": [
    "### Find Extremum - Which genre has the longest movie\n",
    "we have already done this above, but we can do it again here. or even use a squares. \n",
    "We differentiate between squares and circles becaus a traditional scatter plot has a specific purpose in statistics"
   ]
  },
  {
   "cell_type": "markdown",
   "metadata": {},
   "source": [
    "### Sort - Categorize the catalogue by arranging the movies in each primary genre for each rating "
   ]
  },
  {
   "cell_type": "markdown",
   "metadata": {},
   "source": [
    "### Determine Range - What is the range from when a movie was released to when it was added to Netflix's catalogue?"
   ]
  },
  {
   "cell_type": "markdown",
   "metadata": {},
   "source": [
    "### Characterize Distribution - What is the distribution by Genre for movies in a given rating group?"
   ]
  },
  {
   "cell_type": "markdown",
   "metadata": {},
   "source": [
    "### Find Anomalies - What outliers exist for a given genre and rating in terms of movie length"
   ]
  },
  {
   "cell_type": "markdown",
   "metadata": {},
   "source": [
    "### Correlate - Is there a relationship between film duration and year of release for a given genre"
   ]
  },
  {
   "cell_type": "markdown",
   "metadata": {},
   "source": [
    "### Does Netflix typically add movies on a specifc day of the month?"
   ]
  },
  {
   "cell_type": "code",
   "execution_count": null,
   "metadata": {},
   "outputs": [],
   "source": []
  }
 ],
 "metadata": {
  "kernelspec": {
   "display_name": "Python 3",
   "language": "python",
   "name": "python3"
  },
  "language_info": {
   "codemirror_mode": {
    "name": "ipython",
    "version": 3
   },
   "file_extension": ".py",
   "mimetype": "text/x-python",
   "name": "python",
   "nbconvert_exporter": "python",
   "pygments_lexer": "ipython3",
   "version": "3.8.8"
  },
  "papermill": {
   "default_parameters": {},
   "duration": 91.823709,
   "end_time": "2021-03-20T04:52:12.909817",
   "environment_variables": {},
   "exception": null,
   "input_path": "__notebook__.ipynb",
   "output_path": "__notebook__.ipynb",
   "parameters": {},
   "start_time": "2021-03-20T04:50:41.086108",
   "version": "2.2.2"
  }
 },
 "nbformat": 4,
 "nbformat_minor": 4
}
