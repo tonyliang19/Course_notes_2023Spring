{
 "cells": [
  {
   "cell_type": "markdown",
   "id": "8913ac94-687b-490d-bd6d-5e56e22d8deb",
   "metadata": {},
   "source": [
    "# Assignment 2 ER Diagram\n",
    "\n",
    "Author: Tony Liang\n",
    "\n",
    "CPSC368"
   ]
  },
  {
   "cell_type": "markdown",
   "id": "9de7077f-31dd-4ef0-8b7f-743c01e68375",
   "metadata": {},
   "source": [
    "A brief description of what the ER diagram is trying to model. \n",
    "\n",
    "1. What is the ER diagram trying to represent? \n",
    "\n",
    "The ER diagram that I try to show below is the visualization of modelling relationships of soccer players, coach, and their club they play at. With an extend of their matches played, and the referee that is responsible of it.\n",
    "\n",
    "2. How is the ER diagram modelling a realistic situation? \n",
    "\n",
    "This ER diagram models the realistic situation in the minimal manner, that could potentially explains as many details of soccer players, matches, and their team. For, example, I purposedly ommited national team here, others teams that players could have played before joining its current team, and many other aspects. But, other than those mentioned, the following diagram has essential parts of soccer, i.e. a team belongs to certain league, and is managed by a coach and its board of governors. We could even expand it more, the board of governors allows some budget to the team, which is then used by the coach to acquire new young lads   join the team. Or we could also see, that a team plays a match against other team at certain stadium (it could be its own stadium, or opponent's or even other's like in continental matches), and the match is also ruled by one head referee that tracks number goals or booking cards. "
   ]
  },
  {
   "cell_type": "markdown",
   "id": "6a864f2e-3459-4308-8c01-f492bb465df7",
   "metadata": {},
   "source": [
    "![](er_diagram.jpg)"
   ]
  },
  {
   "cell_type": "markdown",
   "id": "5ff118b8-5be0-435c-a7e1-38f507cfdf6f",
   "metadata": {},
   "source": [
    "\n",
    "A  discussion  about  the  various  design  choices  you  had  to  make  as  you  created  the  ER \n",
    "diagram. Specifically discuss situations where you had to choose  between representing \n",
    "something as \n",
    "\n",
    "1) an entity vs. an attribute:\n",
    "     - The `Goals` is purposedly chosen as an entity and not attribute of a match, since goal also have its own attributes, say the scorer, and the time it was scored, or even assister (if the goal was not 100\\% directly from the scorer)\n",
    "     - Similarly with `Assists`\n",
    "     \n",
    "2) an entity vs. a relationship:\n",
    "   - `Stadium` turns out to be a entity that relates with `Team` , since each team could only have one stadium, and each of these two could be treated as different entity sets as they have quite a lot unique attributes.\n",
    "   - Therefore, if not connecting these two entity sets through relationship, we could have meaning less entity floating around that do not make senses to soccer.\n",
    "3) a binary vs. a ternary relationship OR an aggregated vs. non-aggregated relationship. \n",
    "    - Again, the `Goals` and `Assists` are closely related within a match, so it would be better to convert the first two to an aggregated relationship (sort of combining it), and led this to many to one relationship with `Match`.\n",
    "    - Hence, splitting it and use non-aggregated relationship could lead to duplicate of attributes and entity shown in a match.\n",
    " "
   ]
  }
 ],
 "metadata": {
  "kernelspec": {
   "display_name": "Python [conda env:cpsc368]",
   "language": "python",
   "name": "conda-env-cpsc368-py"
  },
  "language_info": {
   "codemirror_mode": {
    "name": "ipython",
    "version": 3
   },
   "file_extension": ".py",
   "mimetype": "text/x-python",
   "name": "python",
   "nbconvert_exporter": "python",
   "pygments_lexer": "ipython3",
   "version": "3.11.0"
  }
 },
 "nbformat": 4,
 "nbformat_minor": 5
}
