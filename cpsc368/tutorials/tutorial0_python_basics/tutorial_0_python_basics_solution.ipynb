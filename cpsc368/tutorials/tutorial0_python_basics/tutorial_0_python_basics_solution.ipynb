{
 "cells": [
  {
   "cell_type": "markdown",
   "metadata": {},
   "source": [
    "# Philosophy\n",
    "This tutorial is meant to help familiarize you the Python skills you will need for the course. We will go over some common data structures, Python basics, and talk about how to perform file IO operations."
   ]
  },
  {
   "cell_type": "markdown",
   "metadata": {},
   "source": [
    "# Section 1: Variable Manipulation\n",
    "Variables in Python are untyped (unlike Java). This means that you do not have to explicitly state what type of data the variable will hold prior to declaring the variable.\n",
    "\n",
    "In Python, the convention is to use snake case (this means that if your function/variable has a multi-word name, you should separate each with an underscore."
   ]
  },
  {
   "cell_type": "markdown",
   "metadata": {},
   "source": [
    "## Section 1.1: Numerical Data Types\n",
    "Python has two numerical data types: `int` (whole numbers) and `float` (decimals).\n",
    "\n",
    "For example:\n",
    "```\n",
    "age = 12 # declaration of a variable called age and assigning this variable the value of 12\n",
    "```"
   ]
  },
  {
   "cell_type": "code",
   "execution_count": 1,
   "metadata": {},
   "outputs": [],
   "source": [
    "# TODO: Declare a variable to store your favourite number\n",
    "favourite_number = 10"
   ]
  },
  {
   "cell_type": "markdown",
   "metadata": {},
   "source": [
    "## Section 1.2: String Manipulations\n",
    "\n",
    "Strings are essentially treated as a list (more on this later). Throughout this course, we may have to do some data cleaning and this will sometimes involve manipulating strings. Luckily for us, lots of the things we want to do are already built into Python. Some of the more common operations we will use are:\n",
    "* `strip`: Removes all whitespace before and after a string\n",
    "* `lower`: Changes all the characters in a string to be lowercase\n",
    "* `split(token)`: Creates a list by splitting the string apart at every instance of the token.\n",
    "* `s[x:y]`: This is a way to get a substring starting from index x to index y-1.\n",
    "\n",
    "There are definitely more built in functions to manipulate strings than the ones we have listed above!"
   ]
  },
  {
   "cell_type": "code",
   "execution_count": 2,
   "metadata": {},
   "outputs": [
    {
     "name": "stdout",
     "output_type": "stream",
     "text": [
      "cookie\n"
     ]
    }
   ],
   "source": [
    "dessert = \"         cookie\"\n",
    "\n",
    "# TODO: Remove the whitespace from the string using strip()\n",
    "dessert = dessert.strip()\n",
    "print(dessert)"
   ]
  },
  {
   "cell_type": "code",
   "execution_count": 3,
   "metadata": {},
   "outputs": [
    {
     "name": "stdout",
     "output_type": "stream",
     "text": [
      "COOKIE\n"
     ]
    }
   ],
   "source": [
    "dessert = \"COOKIE\"\n",
    "\n",
    "# TODO: Use lower() to change the string below to only contain lower case letters\n",
    "dessert.lower()\n",
    "print(dessert)"
   ]
  },
  {
   "cell_type": "code",
   "execution_count": 4,
   "metadata": {},
   "outputs": [
    {
     "data": {
      "text/plain": [
       "'PSC'"
      ]
     },
     "execution_count": 4,
     "metadata": {},
     "output_type": "execute_result"
    }
   ],
   "source": [
    "course = \"CPSC 368\"\n",
    "\n",
    "# TODO: Use the access operator to return the second, third, and fourth characters of the string below\n",
    "# I.e., return PSC\n",
    "course[1:4]"
   ]
  },
  {
   "cell_type": "code",
   "execution_count": 5,
   "metadata": {},
   "outputs": [
    {
     "data": {
      "text/plain": [
       "['the', 'cow', 'jumped', 'over', 'the', 'moon']"
      ]
     },
     "execution_count": 5,
     "metadata": {},
     "output_type": "execute_result"
    }
   ],
   "source": [
    "rhyme = \"the-cow-jumped-over-the-moon\"\n",
    "\n",
    "# TODO: Use the split function to transform the following string into a list containing\n",
    "# [\"the\", \"cow\", \"jumped\", \"over\", \"the\", \"moon\"]\n",
    "rhyme.split(\"-\")"
   ]
  },
  {
   "cell_type": "markdown",
   "metadata": {},
   "source": [
    "## Section 1.3: Casting\n",
    "Casting is when we change the data type of one value to another (e.g., changing an int to a string or a string to an int).\n",
    "\n",
    "To change something into a string, use the `str` function.\n",
    "\n",
    "To change something into an int, use the `int` function and likewise, to change something to a float, use `float`."
   ]
  },
  {
   "cell_type": "code",
   "execution_count": 6,
   "metadata": {},
   "outputs": [
    {
     "data": {
      "text/plain": [
       "12"
      ]
     },
     "execution_count": 6,
     "metadata": {},
     "output_type": "execute_result"
    }
   ],
   "source": [
    "# Example: Change the value stored in hour from \"12\" to 12\n",
    "hour = \"12\"\n",
    "int(hour)"
   ]
  },
  {
   "cell_type": "code",
   "execution_count": 7,
   "metadata": {},
   "outputs": [
    {
     "data": {
      "text/plain": [
       "'12'"
      ]
     },
     "execution_count": 7,
     "metadata": {},
     "output_type": "execute_result"
    }
   ],
   "source": [
    "hour = 12\n",
    "\n",
    "# TODO: Change the value stored in hour from 12 to \"12\"\n",
    "str(hour)"
   ]
  },
  {
   "cell_type": "markdown",
   "metadata": {},
   "source": [
    "### f-strings\n",
    "If you want to concatenate strings together, you can use the `+` operator but sometimes (particularly when you want to concatenate things that are of different types), using `+` can be cumbersome. This is where using the [f-string](https://docs.python.org/3/tutorial/inputoutput.html) may be easier. Essentially, this allows us to specify where a variable should be substituted in a string and Python will take care of converting the values stored in the variables to a string."
   ]
  },
  {
   "cell_type": "code",
   "execution_count": 8,
   "metadata": {},
   "outputs": [
    {
     "name": "stdout",
     "output_type": "stream",
     "text": [
      "I am currently taking CPSC 368 this semester\n",
      "I am currently taking CPSC 368 this semester\n"
     ]
    }
   ],
   "source": [
    "department = \"CPSC\"\n",
    "course_number = 368\n",
    "\n",
    "print(\"I am currently taking \" + department + \" \" + str(course_number) + \" this semester\")\n",
    "\n",
    "print(f\"I am currently taking {department} {course_number} this semester\")"
   ]
  },
  {
   "cell_type": "markdown",
   "metadata": {},
   "source": [
    "# Section 2. Lists\n",
    "A list allows us to store an arbitrary sized number of items in the same data structure.\n",
    "\n",
    "To represent a list in Python, we use square brackets at the beginning and end of the list. Each item in the list is separated by a comma. For example, a list of ints would look something like `[1, 2, 3, 4, 5]`.\n",
    "\n",
    "Use `len` to get the number of items in a list.\n",
    "\n",
    "To print out all the items in the list, you can use the `print` command (i.e., `print(animals)` where animals is a variable that holds a list).\n",
    "\n",
    "Side note: `range(x, y)` (where x and y are integers) is a useful function that returns a list of integers from x to y-1 (inclusive)."
   ]
  },
  {
   "cell_type": "markdown",
   "metadata": {},
   "source": [
    "## Section 2.1: Basics"
   ]
  },
  {
   "cell_type": "code",
   "execution_count": 9,
   "metadata": {},
   "outputs": [],
   "source": [
    "# TODO: Create a variable called animals that stores a list with these four \n",
    "# strings: \"cat\", \"dog\", \"rabbit\", and \"sheep\"\n",
    "animals = [\"cat\", \"dog\", \"rabbit\", \"sheep\"]"
   ]
  },
  {
   "cell_type": "code",
   "execution_count": 10,
   "metadata": {},
   "outputs": [
    {
     "data": {
      "text/plain": [
       "4"
      ]
     },
     "execution_count": 10,
     "metadata": {},
     "output_type": "execute_result"
    }
   ],
   "source": [
    "# TODO: Find the number of items in the list stored by the animals variable from above.\n",
    "len(animals)"
   ]
  },
  {
   "cell_type": "code",
   "execution_count": 11,
   "metadata": {},
   "outputs": [
    {
     "data": {
      "text/plain": [
       "'rabbit'"
      ]
     },
     "execution_count": 11,
     "metadata": {},
     "output_type": "execute_result"
    }
   ],
   "source": [
    "# TODO: Find the third item in the list stored by the animals variable from above.\n",
    "animals[2]"
   ]
  },
  {
   "cell_type": "markdown",
   "metadata": {},
   "source": [
    "## Section 2.2: Adding to a list\n",
    "To add to a list, you can use `append` or `+`. For example:\n",
    "```\n",
    "numbers = [1, 2, 3, 4, 5]\n",
    "numbers.append(6)\n",
    "```\n",
    "or\n",
    "\n",
    "```\n",
    "numbers = [1, 2, 3, 4, 5]\n",
    "numbers = numbers + [6]\n",
    "```"
   ]
  },
  {
   "cell_type": "code",
   "execution_count": 12,
   "metadata": {},
   "outputs": [
    {
     "name": "stdout",
     "output_type": "stream",
     "text": [
      "['cat', 'dog', 'rabbit', 'sheep', 'platypus']\n"
     ]
    }
   ],
   "source": [
    "# TODO: Add a new string to the animals variable. \n",
    "# Try printing out the list to ensure you have successfully added the string\n",
    "animals.append(\"platypus\")\n",
    "# animals = animals + [\"platypus\"]\n",
    "print(animals)"
   ]
  },
  {
   "cell_type": "markdown",
   "metadata": {},
   "source": [
    "# Section 3: Sets\n",
    "Sets are similar to lists except they have the property where **every item in the set is unique**. That is, a list will allow duplicates while sets will not. Sets also do not have an inherent order while lists do. If you try to add an item that already exists inside a set, the add operation will be ignored.\n",
    "\n",
    "Sets are declared using curly braces({}). For example, `fruits = {\"apples\", \"oranges\", \"bananas\")`.\n",
    "\n",
    "You can add/remove from a list by using `add` or `remove`."
   ]
  },
  {
   "cell_type": "code",
   "execution_count": 13,
   "metadata": {},
   "outputs": [],
   "source": [
    "# TODO: Declare a set with the strings \"cat\", \"dog\", \"rabbit\", and \"bird\"\n",
    "animals = {\"cat\", \"dog\", \"rabbit\", \"bird\"}"
   ]
  },
  {
   "cell_type": "code",
   "execution_count": 14,
   "metadata": {},
   "outputs": [
    {
     "name": "stdout",
     "output_type": "stream",
     "text": [
      "{'bird', 'dog', 'cat', 'rabbit'}\n"
     ]
    }
   ],
   "source": [
    "# TODO: Print out all the items in the set\n",
    "print(animals)"
   ]
  },
  {
   "cell_type": "code",
   "execution_count": 15,
   "metadata": {},
   "outputs": [
    {
     "name": "stdout",
     "output_type": "stream",
     "text": [
      "{'bird', 'dog', 'cat', 'rabbit'}\n"
     ]
    }
   ],
   "source": [
    "# TODO: Add an item that already exists to a set and print all the items in the set\n",
    "animals.add(\"cat\")\n",
    "print(animals)"
   ]
  },
  {
   "cell_type": "code",
   "execution_count": 16,
   "metadata": {},
   "outputs": [
    {
     "name": "stdout",
     "output_type": "stream",
     "text": [
      "{'cat', 'bird', 'rabbit', 'platypus', 'dog'}\n"
     ]
    }
   ],
   "source": [
    "# TODO: Add an item that does not already exist in the set and print all the items in the set\n",
    "animals.add(\"platypus\")\n",
    "print(animals)"
   ]
  },
  {
   "cell_type": "markdown",
   "metadata": {},
   "source": [
    "# Section 4. Dictionaries\n",
    "A dictionary (called a map in Java) allows us to store key/value pairs. We can easily look up the key to find the associate value (much like how we look up a word in the dictionary to find the meaning).\n",
    "\n",
    "A dictionary is represented by curly braces {}. For example, if we wanted to store key/value pairs where the key is the department + course number and the value is the name of the course, we would have something like:\n",
    "\n",
    "```\n",
    "courses = {\n",
    "    \"CPSC 100\" : \"Computational Thinking\"\n",
    "    \"CPSC 103\": \"Introduction to Systematic Programming\"\n",
    "}\n",
    "\n",
    "courses[\"CPSC 100\"] # would give us the value associated with \"CPSC 100\"\n",
    "```\n",
    "\n",
    "**The key and value do not have to be same data type** nor do the values all have to be the same type. For example, you can also have something like:\n",
    "\n",
    "```\n",
    "course_dict = {\n",
    "    \"dept\": \"CPSC\",\n",
    "    \"course_num\": 368,\n",
    "    \"year\": 2022,\n",
    "    \"term\": \"W2\"\n",
    "}\n",
    "```"
   ]
  },
  {
   "cell_type": "code",
   "execution_count": 17,
   "metadata": {},
   "outputs": [
    {
     "name": "stdout",
     "output_type": "stream",
     "text": [
      "{'dept': 'CPSC', 'course_num': 368, 'year': 2022, 'term': 'W2'}\n"
     ]
    }
   ],
   "source": [
    "# TODO: Declare a dictionary\n",
    "course_dict = {\n",
    "    \"dept\": \"CPSC\",\n",
    "    \"course_num\": 368,\n",
    "    \"year\": 2022,\n",
    "    \"term\": \"W2\"\n",
    "}\n",
    "\n",
    "print(course_dict)"
   ]
  },
  {
   "cell_type": "code",
   "execution_count": 18,
   "metadata": {},
   "outputs": [
    {
     "name": "stdout",
     "output_type": "stream",
     "text": [
      "CPSC\n"
     ]
    }
   ],
   "source": [
    "# TODO: Get the value associated with a particular key\n",
    "print(course_dict[\"dept\"])"
   ]
  },
  {
   "cell_type": "code",
   "execution_count": 19,
   "metadata": {},
   "outputs": [
    {
     "name": "stdout",
     "output_type": "stream",
     "text": [
      "4\n"
     ]
    }
   ],
   "source": [
    "# TODO: Find the size of a dictionary\n",
    "course_dict_len = len(course_dict)\n",
    "print(course_dict_len)"
   ]
  },
  {
   "cell_type": "code",
   "execution_count": 20,
   "metadata": {},
   "outputs": [
    {
     "name": "stdout",
     "output_type": "stream",
     "text": [
      "{'dept': 'CPSC', 'course_num': 368, 'year': 2022, 'term': 'W2', 'capacity': 80}\n"
     ]
    }
   ],
   "source": [
    "# TODO: Put things inside a dictionary\n",
    "course_dict['capacity'] = 80\n",
    "print(course_dict)"
   ]
  },
  {
   "cell_type": "code",
   "execution_count": 21,
   "metadata": {},
   "outputs": [
    {
     "name": "stdout",
     "output_type": "stream",
     "text": [
      "dept\n",
      "course_num\n",
      "year\n",
      "term\n",
      "capacity\n",
      "CPSC\n",
      "368\n",
      "2022\n",
      "W2\n",
      "80\n"
     ]
    }
   ],
   "source": [
    "# TODO: Print all the keys in a dictionary\n",
    "for k, v in course_dict.items():\n",
    "    print(k)\n",
    "\n",
    "# TODO: Print all the values in a dictionary\n",
    "for k, v in course_dict.items():\n",
    "    print(v)"
   ]
  },
  {
   "cell_type": "markdown",
   "metadata": {},
   "source": [
    "# Section 5. Loops\n",
    "Loops allow you to easily iterate through a list/set/dictionary.\n",
    "\n",
    "In Python, indentation is **really** important as it indicates which lines of code \"belong\" to a given function or if/for/while loop.\n",
    "\n",
    "\n",
    "Write a for loop to print from 0 to 4.\n",
    "\n",
    "Create a list containing 5 different elements: \"CPSC\", \"CPEN\", \"MATH\", \"HIST\", \"SOCI\". Iterate through the list and print each element.\n",
    "\n",
    "Write a while loop to print from 1 to 3."
   ]
  },
  {
   "cell_type": "markdown",
   "metadata": {},
   "source": [
    "## Section 5a: For Loop\n",
    "A for loop has the syntax of: `for x in y` where `x` is a variable that represents some item in the list and `y` is the list you want to iterate through. For example, if we wanted to print out each item in the list `[1, 2, 3, 4, 5]`, :\n",
    "\n",
    "```\n",
    "numbers = [1, 2, 3, 4, 5]\n",
    "\n",
    "for i in numbers:\n",
    "    print(i)\n",
    "```"
   ]
  },
  {
   "cell_type": "code",
   "execution_count": 22,
   "metadata": {},
   "outputs": [
    {
     "name": "stdout",
     "output_type": "stream",
     "text": [
      "mango\n",
      "strawberry\n"
     ]
    }
   ],
   "source": [
    "words = [\"mango\", \"kiwi\", \"strawberry\"]\n",
    "\n",
    "# TODO: Print out every string that has five or more characters.\n",
    "for w in words:\n",
    "    if len(w) >= 5:\n",
    "        print(w)"
   ]
  },
  {
   "cell_type": "markdown",
   "metadata": {},
   "source": [
    "## Section 5b: While Loop\n",
    "A while loop will keep running until the specified expression returns False. It has the syntax of:\n",
    "\n",
    "```\n",
    "while exp: # exp is an expression that results in a bool value (True/False)\n",
    "    # body of while loop\n",
    "```"
   ]
  },
  {
   "cell_type": "code",
   "execution_count": 23,
   "metadata": {},
   "outputs": [
    {
     "name": "stdout",
     "output_type": "stream",
     "text": [
      "1\n",
      "0\n"
     ]
    }
   ],
   "source": [
    "# Example of a while loop\n",
    "i = 1\n",
    "\n",
    "# The loop will terminate when the expression is no longer true\n",
    "while i >= 0:\n",
    "    print(i)\n",
    "    i -= 1"
   ]
  },
  {
   "cell_type": "markdown",
   "metadata": {},
   "source": [
    "# Put it together\n",
    "Consider the following list of strings where each string represents what major a student is in and what their student number is. For example, the list may look like this:\n",
    "\n",
    "```\n",
    "[\"12345678: CPSC\", \"12345679: ENGL\", \"12345680: MUSC\", \"12345681: PHIL\", \"12345683: CPSC\", \"12345683: ARTH\"]\n",
    "```\n",
    "\n",
    "Create a dictionary where the key is the major and the value is a list of all the students who are in the major. Given our example above, the dictionary we want to create would look something like:\n",
    "\n",
    "```\n",
    "students = {\n",
    "    'CPSC': [12345678, 12345683],\n",
    "    'ENGL': [12345679],\n",
    "    'MUSC': [12345680],\n",
    "    'PHIL': [12345681],\n",
    "    'ARTH': [12345683]\n",
    "}\n",
    "```"
   ]
  },
  {
   "cell_type": "code",
   "execution_count": 24,
   "metadata": {},
   "outputs": [
    {
     "name": "stdout",
     "output_type": "stream",
     "text": [
      "{'CPSC': [12345678, 12345683], 'ENGL': [12345679], 'MUSC': [12345680], 'PHIL': [12345681], 'ARTH': [12345683]}\n"
     ]
    }
   ],
   "source": [
    "students_list = [\"12345678: CPSC\", \n",
    "                 \"12345679: ENGL\", \n",
    "                 \"12345680: MUSC\", \n",
    "                 \"12345681: PHIL\", \n",
    "                 \"12345683: CPSC\", \n",
    "                 \"12345683: ARTH\"]\n",
    "\n",
    "# TODO: Create a dictionary where the key is the major and the value is a list \n",
    "# of all the students who are in the major. Your code should work for any given\n",
    "# list with strings in this format - not just the sample list given above.\n",
    "\n",
    "student_dictionary = {}\n",
    "\n",
    "for s in students_list:\n",
    "    tokens = s.split(\": \")\n",
    "    \n",
    "    if len(tokens) < 2:\n",
    "        print(\"Error with given student string: \" + s) # optional error checking\n",
    "    else:\n",
    "        if tokens[1] in student_dictionary.keys():\n",
    "            student_dictionary[tokens[1]].append(int(tokens[0]))\n",
    "        else:\n",
    "            student_dictionary[tokens[1]] = [int(tokens[0])]\n",
    "            \n",
    "print(student_dictionary)"
   ]
  },
  {
   "cell_type": "markdown",
   "metadata": {},
   "source": [
    "# Section 6: Functions\n",
    "In Python, functions start with the keyword `def` followed by the name of the function and any parameters it requires. A colon will end off the signature and then all the lines of code that belong to the function body will be indented under the signature.\n",
    "\n",
    "If no return statement is given or encountered by the computer, a `return None` will be substituted.\n",
    "\n",
    "For example:\n",
    "```\n",
    "def foo(numbers):\n",
    "    for i in numbers:\n",
    "        print(i)\n",
    "\n",
    "```"
   ]
  },
  {
   "cell_type": "code",
   "execution_count": 25,
   "metadata": {},
   "outputs": [],
   "source": [
    "# TODO: Write a function that accepts a list of integers and \n",
    "# returns the number of even numbers in the list\n",
    "\n",
    "# HINT: You can determine whether or not a number is even by using the % operator. \n",
    "# The % operator returns the remainder from dividing the numbers (e.g., 5%2 == 1, 4%2 == 0).\n",
    "\n",
    "def count_even(numbers):\n",
    "    num_even = 0\n",
    "    \n",
    "    for i in numbers:\n",
    "        if i%2 == 0:\n",
    "            num_even += 1 # shorthand for num_even = num_even + 1\n",
    "            \n",
    "    return num_even"
   ]
  },
  {
   "cell_type": "markdown",
   "metadata": {},
   "source": [
    "# Section 7: File I/O\n",
    "Reading and writing to file via code is convinent because we can fetch results from a database and quickly put it together in a form that is easy to transfer to others."
   ]
  },
  {
   "cell_type": "markdown",
   "metadata": {},
   "source": [
    "## Section 7a: Reading in a File\n",
    "Most of the files we will read from in this course are CSVs. In particular, consider the `student_info.csv` file we have provided in this tutorial.\n",
    "\n",
    "For example, let's write a function to read in the `student_info.csv` file and print the student ID, first name, and last name of all students in the CPSC major.\n",
    "\n",
    "```\n",
    "# We import this module because it implements functions to read data from csv file\n",
    "import csv\n",
    "\n",
    "# Read from a csv file\n",
    "# the columns are ID, fname, lname, major\n",
    "def read(filename):\n",
    "    with open(filename) as csvfile:\n",
    "        # Create the csv reader\n",
    "        reader = csv.reader(csvfile)\n",
    "        next(reader) # skip header line\n",
    "        \n",
    "        # Iterate through each row\n",
    "        for row in reader:\n",
    "            # Each row is a list of strings stored in the row variable\n",
    "            # row[0] -> Student ID\n",
    "            # row[1] -> Name\n",
    "            # row[2] -> Address\n",
    "            # row[3] -> Major\n",
    "            # row[4] -> Home Institution\n",
    "            # row[5] -> Start Date\n",
    "\n",
    "            # For instance, we want to find the students whose major is CPSC\n",
    "            if row[3] == \"CPSC\":\n",
    "                print(row[0] + \",\" + row[1]) # we could have also used a f-string\n",
    "\n",
    "read(\"student_info.csv\") # calls the read function on the student_info.csv file\n",
    "```"
   ]
  },
  {
   "cell_type": "code",
   "execution_count": 26,
   "metadata": {},
   "outputs": [
    {
     "name": "stdout",
     "output_type": "stream",
     "text": [
      "{'Languages': 40, 'Art History': 47, 'Urban Forestry': 32, 'Computer Science': 41, 'Commerce': 40}\n"
     ]
    }
   ],
   "source": [
    "# TODO: Find the number of students in each major based on the data stored in \n",
    "# the student_info.csv file and print the result.\n",
    "import csv\n",
    "\n",
    "def read(filename):\n",
    "    student_counter = {}\n",
    "    \n",
    "    with open(filename) as csvfile:\n",
    "        # Create the csv reader\n",
    "        reader = csv.reader(csvfile)\n",
    "        next(reader) # skip header line\n",
    "\n",
    "        # Iterate through each row\n",
    "        for row in reader:\n",
    "            major = row[3]\n",
    "            \n",
    "            if major in student_counter.keys():\n",
    "                student_counter[major] = student_counter[major] + 1\n",
    "            else:\n",
    "                student_counter[major] = 1\n",
    "                \n",
    "    print(student_counter)\n",
    "\n",
    "read(\"student_info.csv\")"
   ]
  },
  {
   "cell_type": "markdown",
   "metadata": {},
   "source": [
    "## Section 7b: Writing to a File\n",
    "Imagine we have written some functions to do some data manipulation and have now obtained a list of values we would like to write to a file.\n",
    "\n",
    "Let's take a look at how we would write a list of data to a file.\n",
    "\n",
    "```\n",
    "import csv\n",
    "\n",
    "def write_to_file(output_filename, data):\n",
    "    # the w mode will destroy any existing file with the given filename and recreate it each time\n",
    "    with open(output_filename, mode='w') as outfile: \n",
    "\n",
    "        for d in data:\n",
    "            outfile.write(d) \n",
    "```"
   ]
  },
  {
   "cell_type": "code",
   "execution_count": 27,
   "metadata": {},
   "outputs": [],
   "source": [
    "# TODO: Write a function that accepts a dictionary with the form of the one we created in \n",
    "# the \"Put It Together\" section and write the values to file.\n",
    "# Each row of the CSV should be one student number followed by their major.\n",
    "# I.e., a sample row in the CSV we want to create would be \"12345678, CPSC\".\n",
    "\n",
    "import csv # you only need to run an import statement once per file\n",
    "           # but we've included it here in case you are only\n",
    "           # running this cell\n",
    "\n",
    "def write_to_file(output_filename, student_dictionary):\n",
    "    with open(output_filename, mode='w') as outfile: \n",
    "        for major in student_dictionary.keys():\n",
    "            students_in_major = student_dictionary[major]\n",
    "            \n",
    "            for cur_student in students_in_major:\n",
    "                outfile.write(f\"{cur_student}, {major}\\n\")"
   ]
  },
  {
   "cell_type": "markdown",
   "metadata": {},
   "source": [
    "## Section 7c: Reading and Writing - Together Forever\n",
    "You can read from and write to (a different) file in the same function.\n",
    "\n",
    "For example, let's change up the example from Step 7a to write data to file instead of printing it out. In that case, we would change the function to something like this:\n",
    "\n",
    "```\n",
    "import csv\n",
    "\n",
    "# input_filename is the name of your data CSV file (e.g., data.csv)\n",
    "# output_filename is the name of the file you wish to produce (e.g., clean_data.csv)\n",
    "def read(input_filename, output_filename):\n",
    "    with open(input_filename) as csvfile, open(output_filename, mode='w') as outfile:\n",
    "        reader = csv.reader(csvfile)\n",
    "        next(reader) # skip header line\n",
    "\n",
    "        for row in reader:\n",
    "            if row[3] == \"CPSC\":\n",
    "                # we could have also used a f-string\n",
    "                outfile.write(row[0] + \",\" + row[1] + \" \" + row[2])) \n",
    "```"
   ]
  },
  {
   "cell_type": "code",
   "execution_count": 28,
   "metadata": {},
   "outputs": [],
   "source": [
    "# TODO: Modify your answer to Step 7a so that instead of printing the number of students in each major,\n",
    "# you write the values to file\n",
    "import csv\n",
    "\n",
    "def read(input_filename, output_filename):\n",
    "    student_counter = {}\n",
    "    \n",
    "    with open(input_filename) as csvfile, open(output_filename, mode='w') as outfile:\n",
    "        reader = csv.reader(csvfile)\n",
    "        next(reader) # skip header line\n",
    "\n",
    "        for row in reader:\n",
    "            major = row[3]\n",
    "            \n",
    "            if major in student_counter.keys():\n",
    "                student_counter[major] = student_counter[major] + 1\n",
    "            else:\n",
    "                student_counter[major] = 1\n",
    "                \n",
    "        for key in student_counter.keys():\n",
    "            outfile.write(f\"{key}, {student_counter[key]}\\n\")\n",
    "        \n",
    "read(\"student_info.csv\", \"student_counter.csv\")"
   ]
  },
  {
   "cell_type": "markdown",
   "metadata": {},
   "source": [
    "# Helpful Links and Documentations\n",
    "\n",
    "Python tutorials from w3schools: https://www.w3schools.com/python/\n",
    "\n",
    "Another Python tutorial: https://www.tutorialspoint.com/python3/python_overview.htm\n",
    "\n",
    "csv module documentation: https://docs.python.org/3/library/csv.html\n",
    "\n"
   ]
  }
 ],
 "metadata": {
  "interpreter": {
   "hash": "31f2aee4e71d21fbe5cf8b01ff0e069b9275f58929596ceb00d14d90e3e16cd6"
  },
  "kernelspec": {
   "display_name": "Python 3 (ipykernel)",
   "language": "python",
   "name": "python3"
  },
  "language_info": {
   "codemirror_mode": {
    "name": "ipython",
    "version": 3
   },
   "file_extension": ".py",
   "mimetype": "text/x-python",
   "name": "python",
   "nbconvert_exporter": "python",
   "pygments_lexer": "ipython3",
   "version": "3.9.16"
  }
 },
 "nbformat": 4,
 "nbformat_minor": 2
}
