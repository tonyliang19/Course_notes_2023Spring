{
 "cells": [
  {
   "cell_type": "markdown",
   "metadata": {},
   "source": [
    "# Philosophy\n",
    "This \"test\" is meant to check if you have obtained the necessary Python skills for this course.\n"
   ]
  },
  {
   "cell_type": "markdown",
   "metadata": {},
   "source": [
    "## Task 1: Read from CSV\n",
    "\n",
    "Please write **a function** that reads from `cat_adoption_info.csv` to produce a list of strings. The data about each cat should be represented as a string of the following form: `breed: sex`. For example, `Domestic Short Hair: Male`. "
   ]
  },
  {
   "cell_type": "code",
   "execution_count": null,
   "metadata": {},
   "outputs": [],
   "source": [
    "# Put your solution to task 1 here\n",
    "import csv\n",
    "\n",
    "def read(filename):\n",
    "    with open(filename) as csvfile:\n",
    "        reader = csv.reader(csvfile)\n",
    "        cats = []\n",
    "        \n",
    "        next(reader) # skip header line\n",
    "\n",
    "        for row in reader:\n",
    "            # TODO: Fill this in\n",
    "    \n",
    "    return cats"
   ]
  },
  {
   "cell_type": "markdown",
   "metadata": {},
   "source": [
    "## Task 2: Find all the cat breeds\n",
    "\n",
    "Using the function from task 1, print all the cat breeds without any duplicates. You do not have to write a function for this task (but you can if you wish)."
   ]
  },
  {
   "cell_type": "code",
   "execution_count": null,
   "metadata": {},
   "outputs": [],
   "source": [
    "# Put your solution to task 2 here\n"
   ]
  },
  {
   "cell_type": "markdown",
   "metadata": {},
   "source": [
    "## Task 3: Count the number of male and female cats.\n",
    "\n",
    "Using the function from task 1, find the number of male and female cats. You do not have to write a function for this task (but you can if you wish)."
   ]
  },
  {
   "cell_type": "code",
   "execution_count": null,
   "metadata": {},
   "outputs": [],
   "source": [
    "# Put your solution to task 3 here\n"
   ]
  },
  {
   "cell_type": "markdown",
   "metadata": {},
   "source": [
    "## Task 4: Read and write to CSV\n",
    "\n",
    "Due to some weird system bug (oh no!), the breeds of all \"Domestic Short Hair\" male cats in the `cat_adoption_info.csv` file should actualy be Domestic Long Hair.\n",
    "\n",
    "Fix this bug and produce a data file with the corrected data called `fixed_bug.csv`. `fixed_bug.csv` should contain the same columns as `cat_adoption_info.csv`."
   ]
  },
  {
   "cell_type": "code",
   "execution_count": null,
   "metadata": {},
   "outputs": [],
   "source": [
    "def fix_data(input_filename, output_filename):\n",
    "    \n",
    "    with open(input_filename) as csvfile, open(output_filename, mode='w') as outfile:\n",
    "        reader = csv.reader(csvfile)\n",
    "        next(reader) # skip header line\n",
    "\n",
    "        writer = csv.writer(outfile, delimiter=',')\n",
    "\n",
    "        # This writes the header (the row with the column titles) into the CSV\n",
    "        writer.writerow([\"aID\", \"name\", \"age\", \"breed\", \"sex\"])\n",
    "\n",
    "        for row in reader:\n",
    "            # TODO fill in the rest\n",
    "            \n",
    "# Calling the function to use it to produce a file with the fixed data\n",
    "fix_data(\"cat_adoption_info.csv\", \"fixed_bug.csv\")"
   ]
  }
 ],
 "metadata": {
  "interpreter": {
   "hash": "b15ff095a116b95490e0d9033fc5ed6396cc77beaa468074bf110a2d41455480"
  },
  "kernelspec": {
   "display_name": "Python 3 (ipykernel)",
   "language": "python",
   "name": "python3"
  },
  "language_info": {
   "codemirror_mode": {
    "name": "ipython",
    "version": 3
   },
   "file_extension": ".py",
   "mimetype": "text/x-python",
   "name": "python",
   "nbconvert_exporter": "python",
   "pygments_lexer": "ipython3",
   "version": "3.9.16"
  }
 },
 "nbformat": 4,
 "nbformat_minor": 2
}
