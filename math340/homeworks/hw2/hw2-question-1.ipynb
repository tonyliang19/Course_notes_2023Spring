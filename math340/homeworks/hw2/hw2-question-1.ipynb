{
 "cells": [
  {
   "cell_type": "markdown",
   "id": "ad7070b7-83bf-4080-ae56-2e3feb7422f1",
   "metadata": {},
   "source": [
    "# HW2 pulp coding answer\n",
    "> Author: Tony Liang\n",
    ">\n",
    "> Student ID: 39356993"
   ]
  },
  {
   "cell_type": "code",
   "execution_count": 1,
   "id": "6c8e84ae-0714-4a2d-8deb-7ff66774a412",
   "metadata": {},
   "outputs": [],
   "source": [
    "# imports\n",
    "import pulp\n",
    "from pulp import *"
   ]
  },
  {
   "cell_type": "markdown",
   "id": "eef9cc2d-29fa-49dc-951a-006e8deed7fe",
   "metadata": {},
   "source": [
    "### Question 1 Vanderbei 5th. Edition ex 1.1"
   ]
  },
  {
   "cell_type": "markdown",
   "id": "9b58cf06-2264-47c9-b7d0-17bbc84744ce",
   "metadata": {},
   "source": [
    "Maximize $25x_1 + 30x_2$\n",
    "\n",
    "Subject to\n",
    "\n",
    "$\\frac{x_1}{200} + \\frac{x_2}{140} \\leq 40$\n",
    "\n",
    "$x_1 \\leq 6000$\n",
    "\n",
    "$x_2 \\leq 4000$\n",
    "\n",
    "$x_1 , x_2 \\geq 0$"
   ]
  },
  {
   "cell_type": "code",
   "execution_count": 2,
   "id": "ea3578ed-c795-4e67-89ed-005e36920c6c",
   "metadata": {},
   "outputs": [
    {
     "data": {
      "text/plain": [
       "Steel_Company:\n",
       "MAXIMIZE\n",
       "None\n",
       "VARIABLES"
      ]
     },
     "execution_count": 2,
     "metadata": {},
     "output_type": "execute_result"
    }
   ],
   "source": [
    "# Create LP problem\n",
    "# Name of problem is first param\n",
    "# LpMaximize or LpMinimize(default) is second param\n",
    "Lp_prob = LpProblem(\"Steel_Company\", LpMaximize)\n",
    "Lp_prob"
   ]
  },
  {
   "cell_type": "code",
   "execution_count": 3,
   "id": "f61618a4-63e8-4980-be32-709ba09d6ea0",
   "metadata": {},
   "outputs": [],
   "source": [
    "# create problem decision variables\n",
    "# add bounds by adding extra argument\n",
    "# you could add lower bound by: lowBound = 0 --> x >= 0 (Default)\n",
    "# you could add upper bound by: upBound = 0 --> x <= 10 \n",
    "x1 = LpVariable(\"x1\") # create varibale x >= 0\n",
    "x2 = LpVariable(\"x2\")"
   ]
  },
  {
   "cell_type": "code",
   "execution_count": 4,
   "id": "ef3d9b0c-516a-43da-bf1d-a430f8bb3d30",
   "metadata": {},
   "outputs": [
    {
     "name": "stdout",
     "output_type": "stream",
     "text": [
      "Steel_Company:\n",
      "MAXIMIZE\n",
      "25*x1 + 30*x2 + 0\n",
      "SUBJECT TO\n",
      "_C1: 7 x1 + 10 x2 <= 56000\n",
      "\n",
      "_C2: x1 <= 6000\n",
      "\n",
      "_C3: x2 <= 4000\n",
      "\n",
      "VARIABLES\n",
      "x1 free Continuous\n",
      "x2 free Continuous\n",
      "\n"
     ]
    }
   ],
   "source": [
    "# Setup the problem\n",
    "# ALWAYS put objective function first with variable names created earlier\n",
    "# then add constraints\n",
    "\n",
    "# objective function\n",
    "Lp_prob += 25 * x1 + 30 * x2\n",
    "\n",
    "# constraints\n",
    "# hours of x1 and x2 less than max hours allowed\n",
    "Lp_prob += (7 * x1) + (10*x2 ) <= 56000\n",
    "# upper bound of x1\n",
    "Lp_prob += x1 <= 6000\n",
    "# upper bound of x2\n",
    "Lp_prob += x2 <= 4000\n",
    "\n",
    "# display problem\n",
    "print(Lp_prob)\n"
   ]
  },
  {
   "cell_type": "code",
   "execution_count": 5,
   "id": "1f26699a-0c2d-4bd1-bcdf-4aaa7a002a36",
   "metadata": {},
   "outputs": [
    {
     "name": "stdout",
     "output_type": "stream",
     "text": [
      "x1 = 6000.0\n",
      "x2 = 1400.0\n",
      "Optimal value is z =  192000.0\n"
     ]
    }
   ],
   "source": [
    "# Solve the lp problem\n",
    "Lp_prob.solve()\n",
    "# check lp problem status if equals Optimal,\n",
    "if not LpStatus[Lp_prob.status] == \"Optimal\":\n",
    "    print(f\"Optimal Solution was not found, the problem was {LpStatus[Lp_prob.status]}\")\n",
    "else:\n",
    "    for variable in Lp_prob.variables():\n",
    "        print(variable.name, \"=\", variable.varValue)\n",
    "    print(\"Optimal value is z = \", value(Lp_prob.objective))"
   ]
  }
 ],
 "metadata": {
  "kernelspec": {
   "display_name": "Python 3 (ipykernel)",
   "language": "python",
   "name": "python3"
  },
  "language_info": {
   "codemirror_mode": {
    "name": "ipython",
    "version": 3
   },
   "file_extension": ".py",
   "mimetype": "text/x-python",
   "name": "python",
   "nbconvert_exporter": "python",
   "pygments_lexer": "ipython3",
   "version": "3.10.8"
  }
 },
 "nbformat": 4,
 "nbformat_minor": 5
}
