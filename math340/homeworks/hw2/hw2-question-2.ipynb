{
 "cells": [
  {
   "cell_type": "markdown",
   "id": "fd718cc9-1796-4062-9a0f-78d978da6f6e",
   "metadata": {},
   "source": [
    "# HW Question 2, Vanderbei Ex 1.2\n",
    "\n",
    "> Author: Tony Liang\n",
    ">\n",
    "> Math 340\n",
    ">\n",
    "> 39356993"
   ]
  },
  {
   "cell_type": "code",
   "execution_count": 1,
   "id": "9714c15f-7ee4-4fc1-a0aa-d1d58cc69172",
   "metadata": {},
   "outputs": [],
   "source": [
    "# imports\n",
    "import pulp\n",
    "from pulp import *"
   ]
  },
  {
   "cell_type": "code",
   "execution_count": 2,
   "id": "215935b0-1d0f-4427-bb77-0968dc197e74",
   "metadata": {},
   "outputs": [],
   "source": [
    "# Defined given information\n",
    "seat_class = [\"Y\", \"B\", \"M\"]\n",
    "ticket = [\"IN\", \"NB\", \"IB\"]\n",
    "prices = [300,160,360,220,130,280,100,80,140]\n",
    "uppers = [4, 8, 3, 8, 13, 10, 10, 22, 20, 18]\n",
    "\n",
    "# Creates the combination of seat class and destination\n",
    "comb = []\n",
    "for s in seat_class:\n",
    "    for t in ticket:\n",
    "        n = s + \"_\" + t\n",
    "        comb.append(n)\n",
    "# Creates the costs using comb and ticket price\n",
    "costs = dict(zip(comb, prices))\n",
    "demands = dict(zip(comb, uppers))"
   ]
  },
  {
   "cell_type": "code",
   "execution_count": 3,
   "id": "d7d6e912-3949-4c20-a0fc-b1d7d644fcfe",
   "metadata": {},
   "outputs": [],
   "source": [
    "# Create lp variables for each ticket price, lowerBound 0 and\n",
    "# being integer variable only\n",
    "ticket_vars = LpVariable.dicts(\"ticket\", comb, \n",
    "                              lowBound=0, cat='Integer')\n",
    "# Creates LP problem\n",
    "PROBLEM_NAME=\"ivy_airline\"\n",
    "Lp_prob = LpProblem(PROBLEM_NAME, LpMaximize) # default is Minimize, but course uses max\n",
    "Lp_prob += lpSum([costs[i] * ticket_vars[i] for i in comb]), \"TicketPrice\""
   ]
  },
  {
   "cell_type": "code",
   "execution_count": 4,
   "id": "01509ed3-dc1b-47a9-890d-fb9fa89a76fd",
   "metadata": {},
   "outputs": [
    {
     "data": {
      "text/plain": [
       "ivy_airline:\n",
       "MAXIMIZE\n",
       "280*ticket_B_IB + 220*ticket_B_IN + 130*ticket_B_NB + 140*ticket_M_IB + 100*ticket_M_IN + 80*ticket_M_NB + 360*ticket_Y_IB + 300*ticket_Y_IN + 160*ticket_Y_NB + 0\n",
       "VARIABLES\n",
       "0 <= ticket_B_IB Integer\n",
       "0 <= ticket_B_IN Integer\n",
       "0 <= ticket_B_NB Integer\n",
       "0 <= ticket_M_IB Integer\n",
       "0 <= ticket_M_IN Integer\n",
       "0 <= ticket_M_NB Integer\n",
       "0 <= ticket_Y_IB Integer\n",
       "0 <= ticket_Y_IN Integer\n",
       "0 <= ticket_Y_NB Integer"
      ]
     },
     "execution_count": 4,
     "metadata": {},
     "output_type": "execute_result"
    }
   ],
   "source": [
    "Lp_prob"
   ]
  },
  {
   "cell_type": "code",
   "execution_count": 4,
   "id": "d84b6aca-eef2-4609-bfa7-951d91f9ec3c",
   "metadata": {},
   "outputs": [],
   "source": [
    "Lp_prob += lpSum([ticket_vars[i] for i in comb]) <= 30, \"SeatRequirement\"\n",
    "# Each individual demand upper bound requirement\n",
    "for (k, v), (k2,v2) in zip(ticket_vars.items(), demands.items()):\n",
    "    if k == k2:\n",
    "        Lp_prob += lpSum([ticket_vars[k]]) <= v2, f\"{k}_Demand\""
   ]
  },
  {
   "cell_type": "code",
   "execution_count": 5,
   "id": "56f316c0-66f7-404d-aecd-2165af10ba50",
   "metadata": {},
   "outputs": [
    {
     "name": "stdout",
     "output_type": "stream",
     "text": [
      "ivy_airline:\n",
      "MAXIMIZE\n",
      "280*ticket_B_IB + 220*ticket_B_IN + 130*ticket_B_NB + 140*ticket_M_IB + 100*ticket_M_IN + 80*ticket_M_NB + 360*ticket_Y_IB + 300*ticket_Y_IN + 160*ticket_Y_NB + 0\n",
      "SUBJECT TO\n",
      "SeatRequirement: ticket_B_IB + ticket_B_IN + ticket_B_NB + ticket_M_IB\n",
      " + ticket_M_IN + ticket_M_NB + ticket_Y_IB + ticket_Y_IN + ticket_Y_NB <= 30\n",
      "\n",
      "Y_IN_Demand: ticket_Y_IN <= 4\n",
      "\n",
      "Y_NB_Demand: ticket_Y_NB <= 8\n",
      "\n",
      "Y_IB_Demand: ticket_Y_IB <= 3\n",
      "\n",
      "B_IN_Demand: ticket_B_IN <= 8\n",
      "\n",
      "B_NB_Demand: ticket_B_NB <= 13\n",
      "\n",
      "B_IB_Demand: ticket_B_IB <= 10\n",
      "\n",
      "M_IN_Demand: ticket_M_IN <= 10\n",
      "\n",
      "M_NB_Demand: ticket_M_NB <= 22\n",
      "\n",
      "M_IB_Demand: ticket_M_IB <= 20\n",
      "\n",
      "VARIABLES\n",
      "0 <= ticket_B_IB Integer\n",
      "0 <= ticket_B_IN Integer\n",
      "0 <= ticket_B_NB Integer\n",
      "0 <= ticket_M_IB Integer\n",
      "0 <= ticket_M_IN Integer\n",
      "0 <= ticket_M_NB Integer\n",
      "0 <= ticket_Y_IB Integer\n",
      "0 <= ticket_Y_IN Integer\n",
      "0 <= ticket_Y_NB Integer\n",
      "\n"
     ]
    }
   ],
   "source": [
    "# Write problem to .lp file\n",
    "Lp_prob.writeLP(\"IvyAirline.lp\")\n",
    "# Shows the problem\n",
    "print(Lp_prob)"
   ]
  },
  {
   "cell_type": "code",
   "execution_count": 6,
   "id": "8dbb5b83-d641-4094-a1fd-fc8622d06464",
   "metadata": {},
   "outputs": [
    {
     "name": "stdout",
     "output_type": "stream",
     "text": [
      "Status: Optimal\n",
      "ticket_B_IB = 10.0\n",
      "ticket_B_IN = 8.0\n",
      "ticket_B_NB = 0.0\n",
      "ticket_M_IB = 0.0\n",
      "ticket_M_IN = 0.0\n",
      "ticket_M_NB = 0.0\n",
      "ticket_Y_IB = 3.0\n",
      "ticket_Y_IN = 4.0\n",
      "ticket_Y_NB = 5.0\n",
      "Optimal value is z =  7640.0\n"
     ]
    }
   ],
   "source": [
    "# Solve the lp problem\n",
    "Lp_prob.solve()\n",
    "# check lp problem status if equals Optimal,\n",
    "if not LpStatus[Lp_prob.status] == \"Optimal\":\n",
    "    print(f\"Optimal Solution was not found, the problem was {LpStatus[Lp_prob.status]}\")\n",
    "else:\n",
    "    print ((\"Status:\"), LpStatus[Lp_prob.status])\n",
    "    for variable in Lp_prob.variables():\n",
    "        print(variable.name, \"=\", variable.varValue)\n",
    "    print(\"Optimal value is z = \", value(Lp_prob.objective))"
   ]
  }
 ],
 "metadata": {
  "kernelspec": {
   "display_name": "Python 3 (ipykernel)",
   "language": "python",
   "name": "python3"
  },
  "language_info": {
   "codemirror_mode": {
    "name": "ipython",
    "version": 3
   },
   "file_extension": ".py",
   "mimetype": "text/x-python",
   "name": "python",
   "nbconvert_exporter": "python",
   "pygments_lexer": "ipython3",
   "version": "3.10.8"
  }
 },
 "nbformat": 4,
 "nbformat_minor": 5
}
