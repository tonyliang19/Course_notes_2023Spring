{
 "cells": [
  {
   "cell_type": "markdown",
   "id": "b7684c93-2e50-4bde-9d46-643f58cf45dd",
   "metadata": {},
   "source": [
    "# HW4-1 Matrix Problem"
   ]
  },
  {
   "cell_type": "markdown",
   "id": "ca45a22a-5883-4e3a-a6c7-a531f100bed6",
   "metadata": {},
   "source": [
    "Consider $m \\times n$-matrix $A$ and the vector $b \\in \\mathbb{R}^m$  that are given by $A = [a_{ij}], b = [b_i]$, where\n",
    "\n",
    "$$a_{ij} = (-1)^{i+1} (i-j), b_i = (-1)^i \\text{for} i = 1, \\ldots m \\text{and j} = 1, \\ldots, n$$"
   ]
  },
  {
   "cell_type": "code",
   "execution_count": 1,
   "id": "38c01c48-2964-47cd-8553-2d07d50a0342",
   "metadata": {},
   "outputs": [],
   "source": [
    "# import libary\n",
    "import pulp\n",
    "from pulp import *"
   ]
  },
  {
   "cell_type": "code",
   "execution_count": 2,
   "id": "1d95832b-bea5-468c-91cb-d98058d56289",
   "metadata": {},
   "outputs": [],
   "source": [
    "# Dimensions\n",
    "M = 10\n",
    "N = 10\n",
    "# Create matrix A and vector b for the problem\n",
    "column = [j+1 for j in range(N)]\n",
    "row = [i+1 for i in range(M)]\n",
    "\n",
    "A = {i:{j:(-1)**(i+j)*(i-j) for j in column} for i in row}\n",
    "b = {i: (-1)**(i) for i in row}"
   ]
  },
  {
   "cell_type": "code",
   "execution_count": null,
   "id": "66178347-56ff-49a1-bd62-4b7a4cfe9a48",
   "metadata": {},
   "outputs": [],
   "source": [
    "LpProblem(PROBLEM_NAME)"
   ]
  },
  {
   "cell_type": "code",
   "execution_count": 4,
   "id": "862b63bb-db60-411a-b5dc-48295e84ece4",
   "metadata": {},
   "outputs": [],
   "source": [
    "# Creates LP problem\n",
    "PROBLEM_NAME=\"hw4-1\"\n",
    "lp = LpProblem(PROBLEM_NAME, LpMaximize)"
   ]
  },
  {
   "cell_type": "code",
   "execution_count": 9,
   "id": "572564bb-6751-45d2-bd94-4b37e2d908ca",
   "metadata": {},
   "outputs": [],
   "source": [
    "# create Lp variables \n",
    "dec_vars = LpVariable.dicts(\"a\", A, lowBound=0)"
   ]
  },
  {
   "cell_type": "code",
   "execution_count": 10,
   "id": "70c2e448-bf2e-440b-a264-72a11b3e0665",
   "metadata": {},
   "outputs": [
    {
     "data": {
      "text/plain": [
       "{1: a_1,\n",
       " 2: a_2,\n",
       " 3: a_3,\n",
       " 4: a_4,\n",
       " 5: a_5,\n",
       " 6: a_6,\n",
       " 7: a_7,\n",
       " 8: a_8,\n",
       " 9: a_9,\n",
       " 10: a_10}"
      ]
     },
     "execution_count": 10,
     "metadata": {},
     "output_type": "execute_result"
    }
   ],
   "source": [
    "dec_vars"
   ]
  }
 ],
 "metadata": {
  "kernelspec": {
   "display_name": "Python [conda env:root] *",
   "language": "python",
   "name": "conda-root-py"
  },
  "language_info": {
   "codemirror_mode": {
    "name": "ipython",
    "version": 3
   },
   "file_extension": ".py",
   "mimetype": "text/x-python",
   "name": "python",
   "nbconvert_exporter": "python",
   "pygments_lexer": "ipython3",
   "version": "3.10.8"
  }
 },
 "nbformat": 4,
 "nbformat_minor": 5
}
